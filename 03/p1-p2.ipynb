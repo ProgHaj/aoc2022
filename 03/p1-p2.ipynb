{
 "cells": [
  {
   "cell_type": "code",
   "execution_count": 1,
   "metadata": {},
   "outputs": [],
   "source": [
    "d = open(\"data\", \"r\").read()\n",
    "\n",
    "ans = []\n",
    "for line in d.split(\"\\n\"):\n",
    "    length = len(line)//2\n",
    "    left = set()\n",
    "    right = set()\n",
    "    a = line[:length]\n",
    "    b = line[length:]\n",
    "    left.update(a)\n",
    "    right.update(b)\n",
    "    ans.append(left.intersection(right))\n",
    "    \n",
    "\n",
    "res = []\n",
    "for val_set in ans:\n",
    "    for val in val_set:\n",
    "        if val.lower() == val:\n",
    "            val = ord(val) - ord('a')\n",
    "        else:\n",
    "            val = ord(val) - ord('A') + 26\n",
    "\n",
    "        res.append(val + 1)\n",
    "        "
   ]
  },
  {
   "cell_type": "code",
   "execution_count": 2,
   "metadata": {},
   "outputs": [
    {
     "data": {
      "text/plain": [
       "8088"
      ]
     },
     "execution_count": 2,
     "metadata": {},
     "output_type": "execute_result"
    }
   ],
   "source": [
    "sum(res)"
   ]
  },
  {
   "cell_type": "code",
   "execution_count": 3,
   "metadata": {},
   "outputs": [],
   "source": [
    "\n",
    "d = open(\"data\", \"r\").read()\n",
    "\n",
    "ans = []\n",
    "lines = d.split(\"\\n\")\n",
    "for i in range(0, len(lines), 3):\n",
    "    line1 = lines[i]\n",
    "    line2 = lines[i + 1]\n",
    "    line3 = lines[i + 2]\n",
    "    \n",
    "    vals = set(line1).intersection(set(line2)).intersection(set(line3))\n",
    "    ans.append(vals)\n",
    "    \n",
    "\n",
    "res = []\n",
    "for val_set in ans:\n",
    "    for val in val_set:\n",
    "        if val.lower() == val:\n",
    "            val = ord(val) - ord('a')\n",
    "        else:\n",
    "            val = ord(val) - ord('A') + 26\n",
    "\n",
    "        res.append(val + 1)"
   ]
  },
  {
   "cell_type": "code",
   "execution_count": 4,
   "metadata": {},
   "outputs": [
    {
     "data": {
      "text/plain": [
       "2522"
      ]
     },
     "execution_count": 4,
     "metadata": {},
     "output_type": "execute_result"
    }
   ],
   "source": [
    "sum(res)"
   ]
  },
  {
   "cell_type": "code",
   "execution_count": null,
   "metadata": {},
   "outputs": [],
   "source": []
  }
 ],
 "metadata": {
  "kernelspec": {
   "display_name": "Python 3.8.5 ('tf-gpu')",
   "language": "python",
   "name": "python3"
  },
  "language_info": {
   "codemirror_mode": {
    "name": "ipython",
    "version": 3
   },
   "file_extension": ".py",
   "mimetype": "text/x-python",
   "name": "python",
   "nbconvert_exporter": "python",
   "pygments_lexer": "ipython3",
   "version": "3.8.5"
  },
  "orig_nbformat": 4,
  "vscode": {
   "interpreter": {
    "hash": "ae9c06ee8f6660436b39f4d5788816270e3661fed8724fc66440e0ff60722595"
   }
  }
 },
 "nbformat": 4,
 "nbformat_minor": 2
}
