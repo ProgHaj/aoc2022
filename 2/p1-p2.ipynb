{
 "cells": [
  {
   "cell_type": "code",
   "execution_count": 1,
   "metadata": {},
   "outputs": [],
   "source": [
    "data = open(\"data\", \"r\").read().split(\"\\n\")\n"
   ]
  },
  {
   "cell_type": "code",
   "execution_count": 2,
   "metadata": {},
   "outputs": [],
   "source": [
    "shapes = {\n",
    "    \"a\": 0,\n",
    "    \"b\": 1,\n",
    "    \"c\": 2,\n",
    "    \"x\": 0,\n",
    "    \"y\": 1,\n",
    "    \"z\": 2\n",
    "}\n",
    "\n",
    "scores = {\n",
    "    \"x\": 1,\n",
    "    \"y\": 2,\n",
    "    \"z\": 3\n",
    "}"
   ]
  },
  {
   "cell_type": "code",
   "execution_count": 3,
   "metadata": {},
   "outputs": [
    {
     "name": "stdout",
     "output_type": "stream",
     "text": [
      "11873\n"
     ]
    }
   ],
   "source": [
    "score = 0\n",
    "\n",
    "for val in data:\n",
    "    a, b = val.split(\" \")\n",
    "    a = a.lower()\n",
    "    b = b.lower()\n",
    "    \n",
    "    init_score = scores[b]\n",
    "    \n",
    "    a_val = shapes[a]\n",
    "    b_val = shapes[b]\n",
    "\n",
    "    if (a_val + 1) % 3 == b_val:\n",
    "        init_score += 6\n",
    "    elif a_val - b_val == 0:\n",
    "        init_score += 3\n",
    "\n",
    "    score += init_score\n",
    "\n",
    "print(score)\n"
   ]
  },
  {
   "cell_type": "code",
   "execution_count": 4,
   "metadata": {},
   "outputs": [
    {
     "data": {
      "text/plain": [
       "12014"
      ]
     },
     "execution_count": 4,
     "metadata": {},
     "output_type": "execute_result"
    }
   ],
   "source": [
    "val_to_score = {\n",
    "    0: 1,\n",
    "    1: 2,\n",
    "    2: 3\n",
    "}\n",
    "\n",
    "score = 0\n",
    "\n",
    "for val in data:\n",
    "    a, b = val.split(\" \")\n",
    "    a = a.lower()\n",
    "    b = b.lower()\n",
    "    \n",
    "    \n",
    "    a_val = shapes[a]\n",
    "\n",
    "    if b == \"x\":\n",
    "        b_val = (a_val - 1 + 3) % 3\n",
    "    elif b == \"y\":\n",
    "        b_val = a_val\n",
    "    elif b == \"z\":\n",
    "        b_val = (a_val + 1) % 3\n",
    "\n",
    "    init_score = val_to_score[b_val]\n",
    "\n",
    "    if (a_val + 1) % 3 == b_val:\n",
    "        init_score += 6\n",
    "    elif a_val - b_val == 0:\n",
    "        init_score += 3\n",
    "\n",
    "    score += init_score\n",
    "\n",
    "score"
   ]
  },
  {
   "cell_type": "code",
   "execution_count": null,
   "metadata": {},
   "outputs": [],
   "source": []
  }
 ],
 "metadata": {
  "kernelspec": {
   "display_name": "Python 3.8.5 ('tf-gpu')",
   "language": "python",
   "name": "python3"
  },
  "language_info": {
   "codemirror_mode": {
    "name": "ipython",
    "version": 3
   },
   "file_extension": ".py",
   "mimetype": "text/x-python",
   "name": "python",
   "nbconvert_exporter": "python",
   "pygments_lexer": "ipython3",
   "version": "3.8.5"
  },
  "orig_nbformat": 4,
  "vscode": {
   "interpreter": {
    "hash": "ae9c06ee8f6660436b39f4d5788816270e3661fed8724fc66440e0ff60722595"
   }
  }
 },
 "nbformat": 4,
 "nbformat_minor": 2
}
