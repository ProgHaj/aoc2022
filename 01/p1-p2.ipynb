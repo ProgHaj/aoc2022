{
 "cells": [
  {
   "cell_type": "code",
   "execution_count": 2,
   "metadata": {},
   "outputs": [
    {
     "name": "stdout",
     "output_type": "stream",
     "text": [
      "67450\n"
     ]
    }
   ],
   "source": [
    "f = open(\"data\", \"r\").read()\n",
    "\n",
    "temp = 0\n",
    "maxval = 0\n",
    "for a in f.split(\"\\n\"):\n",
    "    if not a:\n",
    "        maxval = max(maxval, temp)\n",
    "        temp = 0\n",
    "        continue\n",
    "\n",
    "    a = int(a)\n",
    "    temp += a\n",
    "\n",
    "print(maxval)\n"
   ]
  },
  {
   "cell_type": "code",
   "execution_count": 4,
   "metadata": {},
   "outputs": [
    {
     "name": "stdout",
     "output_type": "stream",
     "text": [
      "199357\n"
     ]
    }
   ],
   "source": [
    "\n",
    "f = open(\"data\", \"r\").read()\n",
    "\n",
    "temp = 0\n",
    "vals = []\n",
    "for a in f.split(\"\\n\"):\n",
    "    if not a:\n",
    "        vals.append(temp)\n",
    "        temp = 0\n",
    "        continue\n",
    "\n",
    "    a = int(a)\n",
    "    temp += a\n",
    "\n",
    "vals.sort()\n",
    "print(sum(vals[-3:]))"
   ]
  },
  {
   "cell_type": "code",
   "execution_count": null,
   "metadata": {},
   "outputs": [],
   "source": []
  }
 ],
 "metadata": {
  "kernelspec": {
   "display_name": "Python 3.8.5 ('tf-gpu')",
   "language": "python",
   "name": "python3"
  },
  "language_info": {
   "codemirror_mode": {
    "name": "ipython",
    "version": 3
   },
   "file_extension": ".py",
   "mimetype": "text/x-python",
   "name": "python",
   "nbconvert_exporter": "python",
   "pygments_lexer": "ipython3",
   "version": "3.8.5"
  },
  "orig_nbformat": 4,
  "vscode": {
   "interpreter": {
    "hash": "ae9c06ee8f6660436b39f4d5788816270e3661fed8724fc66440e0ff60722595"
   }
  }
 },
 "nbformat": 4,
 "nbformat_minor": 2
}
